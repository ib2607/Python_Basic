{
 "cells": [
  {
   "cell_type": "code",
   "execution_count": null,
   "metadata": {
    "collapsed": true
   },
   "outputs": [],
   "source": [
    "\"\"\"\n",
    "About f-string\n",
    "\"\"\""
   ]
  },
  {
   "cell_type": "code",
   "execution_count": 9,
   "outputs": [
    {
     "name": "stdout",
     "output_type": "stream",
     "text": [
      "Hello IB\n",
      "Hi my name is IB\n",
      "Hi my name is IB\n"
     ]
    }
   ],
   "source": [
    "# using with a variable\n",
    "name = \"IB\"\n",
    "print(f\"Hello {name}\")\n",
    "\n",
    "#or string add, be careful with your quote\n",
    "print (f\"{'Hi my name is' + ' IB'}\")\n",
    "print(f'{\"Hi\" + \" my name is IB\"}')"
   ],
   "metadata": {
    "collapsed": false
   }
  },
  {
   "cell_type": "code",
   "execution_count": 8,
   "outputs": [
    {
     "name": "stdout",
     "output_type": "stream",
     "text": [
      "5 product 2 is 10\n",
      "5 * 5 = 25\n"
     ]
    }
   ],
   "source": [
    "# using with a function\n",
    "def product2(x):\n",
    "    return x*2\n",
    "\n",
    "x=5\n",
    "print(f\"{x} product 2 is {product2(x)}\")\n",
    "\n",
    "# also using arithmetic\n",
    "print(f\"5 * 5 = {5*5}\")"
   ],
   "metadata": {
    "collapsed": false
   }
  },
  {
   "cell_type": "code",
   "execution_count": 10,
   "outputs": [
    {
     "name": "stdout",
     "output_type": "stream",
     "text": [
      "IB like sleep\n"
     ]
    }
   ],
   "source": [
    "# with dictionary - remember using different quote\n",
    "person = {\"name\": \"IB\", \"hobby\": \"sleep\"}\n",
    "print(f\"{person['name']} like {person['hobby']}\")"
   ],
   "metadata": {
    "collapsed": false
   }
  },
  {
   "cell_type": "code",
   "execution_count": 16,
   "outputs": [
    {
     "name": "stdout",
     "output_type": "stream",
     "text": [
      "Hello \"IB\"\n",
      "Hello 'IB'\n",
      "Hello {name}\n",
      "Hello {{name}}\n"
     ]
    }
   ],
   "source": [
    "# with special characters\n",
    "name = \"IB\"\n",
    "\n",
    "# with quote, using outside the braces {}\n",
    "print(f\"Hello \\\"{name}\\\"\")\n",
    "print(f\"Hello \\'{name}\\'\")\n",
    "\n",
    "# with braces, using double braces\n",
    "print(f\"Hello {{name}}\")\n",
    "print(f\"Hello {{{{name}}}}\")\n"
   ],
   "metadata": {
    "collapsed": false
   }
  }
 ],
 "metadata": {
  "kernelspec": {
   "display_name": "Python 3",
   "language": "python",
   "name": "python3"
  },
  "language_info": {
   "codemirror_mode": {
    "name": "ipython",
    "version": 2
   },
   "file_extension": ".py",
   "mimetype": "text/x-python",
   "name": "python",
   "nbconvert_exporter": "python",
   "pygments_lexer": "ipython2",
   "version": "2.7.6"
  }
 },
 "nbformat": 4,
 "nbformat_minor": 0
}
