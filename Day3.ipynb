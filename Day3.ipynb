{
 "cells": [
  {
   "cell_type": "code",
   "execution_count": 1,
   "outputs": [],
   "source": [
    "import pandas as pd\n",
    "from pandas import DataFrame\n"
   ],
   "metadata": {
    "collapsed": false,
    "ExecuteTime": {
     "start_time": "2023-05-05T21:06:47.456144Z",
     "end_time": "2023-05-05T21:06:48.540817Z"
    }
   }
  },
  {
   "cell_type": "code",
   "execution_count": null,
   "outputs": [],
   "source": [],
   "metadata": {
    "collapsed": false
   }
  },
  {
   "cell_type": "markdown",
   "source": [
    "Load SMSSpam Collection"
   ],
   "metadata": {
    "collapsed": false
   }
  },
  {
   "cell_type": "code",
   "execution_count": 29,
   "metadata": {
    "collapsed": true,
    "ExecuteTime": {
     "start_time": "2023-05-05T22:02:37.521507Z",
     "end_time": "2023-05-05T22:02:37.546530Z"
    }
   },
   "outputs": [],
   "source": [
    "_path = \"./Resources/smsspamcollection/SMSSpamCollection.txt\"\n",
    "df = pd.read_table(_path, header=None)\n",
    "df.rename(columns={0:\"flag\",1:\"text\"})\n",
    "[rows, cols] = df.shape"
   ]
  },
  {
   "cell_type": "markdown",
   "source": [
    "Calcute late number of rows, number of ham and spam"
   ],
   "metadata": {
    "collapsed": false
   }
  },
  {
   "cell_type": "code",
   "execution_count": 32,
   "outputs": [
    {
     "name": "stdout",
     "output_type": "stream",
     "text": [
      "Number of sms:  5572\n",
      "Number of ham:  4825\n",
      "Number of spam:  747\n"
     ]
    }
   ],
   "source": [
    "hams, spams = 0, 0\n",
    "for i in range(0,rows):\n",
    "    if df.iat[i,0] == \"ham\":\n",
    "        hams+=1\n",
    "\n",
    "for i in range(0,rows):\n",
    "    if df.iat[i,0] == \"spam\":\n",
    "        spams+=1\n",
    "\n",
    "print(\"Number of sms: \", rows)\n",
    "print(\"Number of ham: \", hams)\n",
    "print(\"Number of spam: \", spams)"
   ],
   "metadata": {
    "collapsed": false,
    "ExecuteTime": {
     "start_time": "2023-05-05T22:03:52.311187Z",
     "end_time": "2023-05-05T22:03:52.421287Z"
    }
   }
  },
  {
   "cell_type": "markdown",
   "source": [
    "Count number of word that without digit"
   ],
   "metadata": {
    "collapsed": false
   }
  },
  {
   "cell_type": "code",
   "execution_count": null,
   "outputs": [],
   "source": [
    "def count_word_instr(s):\n",
    "    \"\"\"\n",
    "    Using split() to split all of words from string s that break by space\n",
    "    :param s: string that want to count words\n",
    "    :return: number of words in string (with out number)\n",
    "    \"\"\"\n"
   ],
   "metadata": {
    "collapsed": false
   }
  },
  {
   "cell_type": "code",
   "execution_count": null,
   "outputs": [],
   "source": [],
   "metadata": {
    "collapsed": false
   }
  },
  {
   "cell_type": "markdown",
   "source": [
    "Lambda function"
   ],
   "metadata": {
    "collapsed": false
   }
  },
  {
   "cell_type": "code",
   "execution_count": 1,
   "outputs": [
    {
     "name": "stdout",
     "output_type": "stream",
     "text": [
      "6\n",
      "6\n"
     ]
    }
   ],
   "source": [
    "#Lambda (anonymous function) is a different way to write a function\n",
    "\n",
    "# Normal function\n",
    "def func1(x):\n",
    "    return x*2\n",
    "\n",
    "#Using lambda\n",
    "\n",
    "func2 = lambda x:x*2\n",
    "\n",
    "print(func1(3))\n",
    "print(func2(3))\n",
    "\n",
    "#Output\n",
    "# 6\n",
    "# 6"
   ],
   "metadata": {
    "collapsed": false
   }
  },
  {
   "cell_type": "code",
   "execution_count": 11,
   "outputs": [
    {
     "name": "stdout",
     "output_type": "stream",
     "text": [
      "[-1, -2, 4]\n",
      "[-1, -2, 4]\n",
      "[-2, -1, 4]\n"
     ]
    }
   ],
   "source": [
    "# Lambda Function with key function\n",
    "def square(x):\n",
    "    return x**2\n",
    "\n",
    "alist = [-2,-1,4]\n",
    "print(sorted(alist,key=square))\n",
    "\n",
    "# Using Lambda\n",
    "print(sorted(alist,key=lambda x:x**2))\n",
    "# Check list changed\n",
    "print(alist)"
   ],
   "metadata": {
    "collapsed": false
   }
  },
  {
   "cell_type": "markdown",
   "source": [
    "Zip function"
   ],
   "metadata": {
    "collapsed": false
   }
  },
  {
   "cell_type": "code",
   "execution_count": 14,
   "outputs": [
    {
     "name": "stdout",
     "output_type": "stream",
     "text": [
      "1 a X\n",
      "3 b Y\n",
      "5 c Z\n",
      "1 L\n",
      "3 o\n",
      "5 n\n"
     ]
    }
   ],
   "source": [
    "# Zip is a clean and quick way to iterate through multiple arrays in the same time\n",
    "\n",
    "list1 = [1,3,5]\n",
    "char1 = ['a','b','c']\n",
    "string1 = \"XYZ\"\n",
    "long_string = \"LongString\"\n",
    "\n",
    "for i1,i2,i3 in zip(list1,char1, string1):\n",
    "    print(i1,i2,i3)\n",
    "\n",
    "# Mindful with different length\n",
    "for i1,i2 in zip(list1,long_string):\n",
    "    print(i1,i2)"
   ],
   "metadata": {
    "collapsed": false
   }
  },
  {
   "cell_type": "code",
   "execution_count": null,
   "outputs": [],
   "source": [],
   "metadata": {
    "collapsed": false
   }
  }
 ],
 "metadata": {
  "kernelspec": {
   "display_name": "Python 3",
   "language": "python",
   "name": "python3"
  },
  "language_info": {
   "codemirror_mode": {
    "name": "ipython",
    "version": 2
   },
   "file_extension": ".py",
   "mimetype": "text/x-python",
   "name": "python",
   "nbconvert_exporter": "python",
   "pygments_lexer": "ipython2",
   "version": "2.7.6"
  }
 },
 "nbformat": 4,
 "nbformat_minor": 0
}
