{
 "cells": [
  {
   "cell_type": "code",
   "execution_count": 1,
   "outputs": [],
   "source": [
    "import pandas as pd\n",
    "from pandas import DataFrame\n"
   ],
   "metadata": {
    "collapsed": false,
    "ExecuteTime": {
     "start_time": "2023-05-05T21:06:47.456144Z",
     "end_time": "2023-05-05T21:06:48.540817Z"
    }
   }
  },
  {
   "cell_type": "markdown",
   "source": [
    "Load SMSSpam Collection"
   ],
   "metadata": {
    "collapsed": false
   }
  },
  {
   "cell_type": "code",
   "execution_count": 29,
   "metadata": {
    "collapsed": true,
    "ExecuteTime": {
     "start_time": "2023-05-05T22:02:37.521507Z",
     "end_time": "2023-05-05T22:02:37.546530Z"
    }
   },
   "outputs": [],
   "source": [
    "_path = \"./Resources/smsspamcollection/SMSSpamCollection.txt\"\n",
    "df = pd.read_table(_path, header=None)\n",
    "df.rename(columns={0:\"flag\",1:\"text\"})\n",
    "[rows, cols] = df.shape"
   ]
  },
  {
   "cell_type": "markdown",
   "source": [
    "Calcute late number of rows, number of ham and spam"
   ],
   "metadata": {
    "collapsed": false
   }
  },
  {
   "cell_type": "code",
   "execution_count": 32,
   "outputs": [
    {
     "name": "stdout",
     "output_type": "stream",
     "text": [
      "Number of sms:  5572\n",
      "Number of ham:  4825\n",
      "Number of spam:  747\n"
     ]
    }
   ],
   "source": [
    "hams, spams = 0, 0\n",
    "for i in range(0,rows):\n",
    "    if df.iat[i,0] == \"ham\":\n",
    "        hams+=1\n",
    "\n",
    "for i in range(0,rows):\n",
    "    if df.iat[i,0] == \"spam\":\n",
    "        spams+=1\n",
    "\n",
    "print(\"Number of sms: \", rows)\n",
    "print(\"Number of ham: \", hams)\n",
    "print(\"Number of spam: \", spams)"
   ],
   "metadata": {
    "collapsed": false,
    "ExecuteTime": {
     "start_time": "2023-05-05T22:03:52.311187Z",
     "end_time": "2023-05-05T22:03:52.421287Z"
    }
   }
  },
  {
   "cell_type": "markdown",
   "source": [
    "Count number of word that without digit"
   ],
   "metadata": {
    "collapsed": false
   }
  },
  {
   "cell_type": "code",
   "execution_count": null,
   "outputs": [],
   "source": [
    "def count_word_instr(s):\n",
    "    \"\"\"\n",
    "    Using split() to split all of words from string s that break by space ->\n",
    "    :param s: string that want to count words\n",
    "    :return: number of words in string (with out number)\n",
    "    \"\"\""
   ],
   "metadata": {
    "collapsed": false
   }
  },
  {
   "cell_type": "code",
   "execution_count": null,
   "outputs": [],
   "source": [],
   "metadata": {
    "collapsed": false,
    "pycharm": {
     "is_executing": true
    }
   }
  }
 ],
 "metadata": {
  "kernelspec": {
   "display_name": "Python 3",
   "language": "python",
   "name": "python3"
  },
  "language_info": {
   "codemirror_mode": {
    "name": "ipython",
    "version": 2
   },
   "file_extension": ".py",
   "mimetype": "text/x-python",
   "name": "python",
   "nbconvert_exporter": "python",
   "pygments_lexer": "ipython2",
   "version": "2.7.6"
  }
 },
 "nbformat": 4,
 "nbformat_minor": 0
}
