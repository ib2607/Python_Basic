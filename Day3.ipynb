{
 "cells": [
  {
   "cell_type": "markdown",
   "source": [
    "Calculate F1-Score with validate input"
   ],
   "metadata": {
    "collapsed": false
   }
  },
  {
   "cell_type": "code",
   "execution_count": 1,
   "metadata": {
    "collapsed": true
   },
   "outputs": [
    {
     "name": "stdout",
     "output_type": "stream",
     "text": [
      "This is Day3 Python Courses\n"
     ]
    }
   ],
   "source": [
    "def calc_f1_score(tp,fp,fn):\n",
    "    if\n"
   ]
  },
  {
   "cell_type": "code",
   "execution_count": 13,
   "outputs": [],
   "source": [
    "def detect_int(n):\n",
    "    try:\n",
    "        val = int(n)\n",
    "        if n-val == 0:\n",
    "            pass\n",
    "        else:\n",
    "            print(n,\"is not a number\")\n",
    "\n",
    "    except ValueError:\n",
    "        print(n, \"is not a number\")\n",
    "\n",
    "detect_int(3.0)\n"
   ],
   "metadata": {
    "collapsed": false
   }
  }
 ],
 "metadata": {
  "kernelspec": {
   "display_name": "Python 3",
   "language": "python",
   "name": "python3"
  },
  "language_info": {
   "codemirror_mode": {
    "name": "ipython",
    "version": 2
   },
   "file_extension": ".py",
   "mimetype": "text/x-python",
   "name": "python",
   "nbconvert_exporter": "python",
   "pygments_lexer": "ipython2",
   "version": "2.7.6"
  }
 },
 "nbformat": 4,
 "nbformat_minor": 0
}
