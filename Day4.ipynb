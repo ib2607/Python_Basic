{
 "cells": [
  {
   "cell_type": "code",
   "execution_count": 11,
   "metadata": {
    "collapsed": true
   },
   "outputs": [
    {
     "data": {
      "text/plain": "Label(value='0s')",
      "application/vnd.jupyter.widget-view+json": {
       "version_major": 2,
       "version_minor": 0,
       "model_id": "5e3426105952413c8bd7e23748f3623e"
      }
     },
     "metadata": {},
     "output_type": "display_data"
    },
    {
     "name": "stdout",
     "output_type": "stream",
     "text": [
      "The autotimebar extension is already loaded. To reload it, use:\n",
      "  %reload_ext autotimebar\n"
     ]
    }
   ],
   "source": [
    "import matplotlib as plt\n",
    "import math\n",
    "%load_ext autotimebar"
   ]
  },
  {
   "cell_type": "markdown",
   "source": [
    "Check is n a number"
   ],
   "metadata": {
    "collapsed": false
   }
  },
  {
   "cell_type": "code",
   "execution_count": 6,
   "outputs": [
    {
     "data": {
      "text/plain": "Label(value='0s')",
      "application/vnd.jupyter.widget-view+json": {
       "version_major": 2,
       "version_minor": 0,
       "model_id": "59cfc470cc2f4c47b9195e19a23f8ebe"
      }
     },
     "metadata": {},
     "output_type": "display_data"
    },
    {
     "data": {
      "text/plain": "False"
     },
     "execution_count": 6,
     "metadata": {},
     "output_type": "execute_result"
    }
   ],
   "source": [
    "def is_number(n):\n",
    "    if type(n) == int:\n",
    "        return True\n",
    "\n",
    "    return False\n"
   ],
   "metadata": {
    "collapsed": false
   }
  },
  {
   "cell_type": "markdown",
   "source": [
    "Calculate 3 activation function: Binary step function, Sigmoid Function, Elu Function"
   ],
   "metadata": {
    "collapsed": false
   }
  },
  {
   "cell_type": "code",
   "execution_count": 14,
   "outputs": [
    {
     "data": {
      "text/plain": "Label(value='0s')",
      "application/vnd.jupyter.widget-view+json": {
       "version_major": 2,
       "version_minor": 0,
       "model_id": "8f01db9e6919472c95f7a3e560c1063e"
      }
     },
     "metadata": {},
     "output_type": "display_data"
    },
    {
     "data": {
      "text/plain": "-0.9963212055882856"
     },
     "execution_count": 14,
     "metadata": {},
     "output_type": "execute_result"
    }
   ],
   "source": [
    "def activation_func(n, func):\n",
    "    \"\"\"\n",
    "    :param n: n that want to calculate\n",
    "    :param func: bin = binary; sig = sigmoid; elu = elu\n",
    "    :return: value calc according that 3 function\n",
    "    \"\"\"\n",
    "    if not is_number(n):\n",
    "        return str(n) + \"is not a number\"\n",
    "\n",
    "    if func not in [\"bin\", \"sig\", \"elu\"]:\n",
    "        return \"Function is not in [bin, sig, elu]\"\n",
    "\n",
    "    if func == \"bin\":\n",
    "        return 1 if n>=0 else 0\n",
    "\n",
    "    if func == \"sig\":\n",
    "        return 1/(1+math.exp(-n))\n",
    "\n",
    "    # Elu, a=0.01\n",
    "    a = 0.01\n",
    "    return n if n>=0 else (a*math.exp(n)-1)\n",
    "\n",
    "activation_func(-1,\"elu\")\n"
   ],
   "metadata": {
    "collapsed": false
   }
  }
 ],
 "metadata": {
  "kernelspec": {
   "display_name": "Python 3",
   "language": "python",
   "name": "python3"
  },
  "language_info": {
   "codemirror_mode": {
    "name": "ipython",
    "version": 2
   },
   "file_extension": ".py",
   "mimetype": "text/x-python",
   "name": "python",
   "nbconvert_exporter": "python",
   "pygments_lexer": "ipython2",
   "version": "2.7.6"
  }
 },
 "nbformat": 4,
 "nbformat_minor": 0
}
