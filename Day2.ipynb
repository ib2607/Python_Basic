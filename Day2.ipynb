{
 "cells": [
  {
   "cell_type": "markdown",
   "source": [
    "Check is n a symmetrical number"
   ],
   "metadata": {
    "collapsed": false
   }
  },
  {
   "cell_type": "code",
   "execution_count": 1,
   "outputs": [
    {
     "name": "stdout",
     "output_type": "stream",
     "text": [
      "False\n",
      "True\n"
     ]
    }
   ],
   "source": [
    "def is_symmetric_number(n):\n",
    "    s = str(n)\n",
    "    if s!= s[::-1]:\n",
    "        return False\n",
    "\n",
    "    return True\n",
    "\n",
    "print(is_symmetric_number(1234))\n",
    "print(is_symmetric_number(121))"
   ],
   "metadata": {
    "collapsed": false
   }
  },
  {
   "cell_type": "markdown",
   "source": [
    "Return reversed number"
   ],
   "metadata": {
    "collapsed": false
   }
  },
  {
   "cell_type": "code",
   "execution_count": 15,
   "outputs": [
    {
     "name": "stdout",
     "output_type": "stream",
     "text": [
      "4321\n",
      "-4321\n"
     ]
    }
   ],
   "source": [
    "def reverse_number(n):\n",
    "    k=n\n",
    "    negative = False\n",
    "    if n<0:\n",
    "        negative = True\n",
    "        n=-n\n",
    "\n",
    "    s=str(n)\n",
    "    if negative:\n",
    "        return -1*int(s[::-1])\n",
    "    return int(s[::-1])\n",
    "\n",
    "print(reverse_number(1234))\n",
    "print(reverse_number(-1234))"
   ],
   "metadata": {
    "collapsed": false
   }
  },
  {
   "cell_type": "code",
   "execution_count": 16,
   "metadata": {
    "collapsed": true
   },
   "outputs": [
    {
     "name": "stdout",
     "output_type": "stream",
     "text": [
      "True\n",
      "False\n",
      "False\n",
      "True\n"
     ]
    }
   ],
   "source": [
    "def is_reverse_prime(n):\n",
    "    if n<2:\n",
    "        return False\n",
    "\n",
    "    str_n = str(n)\n",
    "    if str_n != str_n[::-1]:\n",
    "        return False\n",
    "\n",
    "    for i in range(2,n//2):\n",
    "        if n%i == 0:\n",
    "            return False\n",
    "\n",
    "    return True\n",
    "\n",
    "print(is_reverse_prime(3))\n",
    "print(is_reverse_prime(20))\n",
    "print(is_reverse_prime(121))\n",
    "print(is_reverse_prime(101))\n"
   ]
  },
  {
   "cell_type": "markdown",
   "source": [
    "Return list of divisor of n"
   ],
   "metadata": {
    "collapsed": false
   }
  },
  {
   "cell_type": "code",
   "execution_count": 19,
   "outputs": [
    {
     "name": "stdout",
     "output_type": "stream",
     "text": [
      "[1, -1, 2, -2, 3, -3, 4, -4, 5, -5, 6, -6, 10, -10, 12, -12, 15, -15, 20, -20, 30, -30]\n"
     ]
    }
   ],
   "source": [
    "def divisors(n):\n",
    "    if n<0:\n",
    "        n=-n\n",
    "\n",
    "    if n==0:\n",
    "        return \"Every number\"\n",
    "\n",
    "    div = []\n",
    "    for i in range(1,n//2+1):\n",
    "        if n%i == 0:\n",
    "            div.append(i)\n",
    "            div.append(-i)\n",
    "    return div\n",
    "\n",
    "print(divisors(60))"
   ],
   "metadata": {
    "collapsed": false
   }
  },
  {
   "cell_type": "markdown",
   "source": [
    "Return greatest common divisor of a and b"
   ],
   "metadata": {
    "collapsed": false
   }
  },
  {
   "cell_type": "code",
   "execution_count": 21,
   "outputs": [
    {
     "name": "stdout",
     "output_type": "stream",
     "text": [
      "15\n"
     ]
    }
   ],
   "source": [
    "def greatest_common_divisor(a,b):\n",
    "    # Make a>b in every case\n",
    "    if a<b:\n",
    "        temp = a\n",
    "        a = b\n",
    "        b = temp\n",
    "\n",
    "    if b==0:\n",
    "        return a\n",
    "    return greatest_common_divisor(b,a%b)\n",
    "\n",
    "print(greatest_common_divisor(30,45))"
   ],
   "metadata": {
    "collapsed": false
   }
  },
  {
   "cell_type": "markdown",
   "source": [
    "Return least common multiple of two number a and b"
   ],
   "metadata": {
    "collapsed": false
   }
  },
  {
   "cell_type": "code",
   "execution_count": 23,
   "outputs": [
    {
     "name": "stdout",
     "output_type": "stream",
     "text": [
      "60\n",
      "60\n",
      "60\n"
     ]
    }
   ],
   "source": [
    "def least_common_multiple(a,b):\n",
    "    return a*b//greatest_common_divisor(a,b)\n",
    "\n",
    "print(least_common_multiple(20,3))\n",
    "print(least_common_multiple(60,20))\n",
    "print(least_common_multiple(20,30))\n"
   ],
   "metadata": {
    "collapsed": false
   }
  }
 ],
 "metadata": {
  "kernelspec": {
   "display_name": "Python 3",
   "language": "python",
   "name": "python3"
  },
  "language_info": {
   "codemirror_mode": {
    "name": "ipython",
    "version": 2
   },
   "file_extension": ".py",
   "mimetype": "text/x-python",
   "name": "python",
   "nbconvert_exporter": "python",
   "pygments_lexer": "ipython2",
   "version": "2.7.6"
  }
 },
 "nbformat": 4,
 "nbformat_minor": 0
}
