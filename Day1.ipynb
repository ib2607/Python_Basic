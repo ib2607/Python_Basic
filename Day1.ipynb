{
 "cells": [
  {
   "cell_type": "markdown",
   "source": [
    "Hàm kiểm tra một số là số lẻ\n",
    "input: n=10\n",
    "output: false"
   ],
   "metadata": {
    "collapsed": false
   }
  },
  {
   "cell_type": "code",
   "execution_count": 2,
   "outputs": [
    {
     "data": {
      "text/plain": "False"
     },
     "execution_count": 1,
     "metadata": {},
     "output_type": "execute_result"
    },
    {
     "data": {
      "text/plain": "True"
     },
     "execution_count": 2,
     "metadata": {},
     "output_type": "execute_result"
    }
   ],
   "source": [
    "def is_odd_number(n):\n",
    "    \"\"\"\n",
    "    :param n: an integer n need to check that is odd number or even number\n",
    "    :return: true if n is odd number and false if the opposite\n",
    "    \"\"\"\n",
    "    return (n % 2 == 1)\n",
    "\n",
    "is_odd_number(6)\n",
    "is_odd_number(7)\n"
   ],
   "metadata": {
    "collapsed": false
   }
  },
  {
   "cell_type": "markdown",
   "source": [
    "Hàm kiểm tra số nguyên tố\n",
    "input: 7\n",
    "output: true"
   ],
   "metadata": {
    "collapsed": false
   }
  },
  {
   "cell_type": "code",
   "execution_count": 10,
   "outputs": [
    {
     "name": "stdout",
     "output_type": "stream",
     "text": [
      "True\n",
      "False\n",
      "True\n"
     ]
    }
   ],
   "source": [
    "def is_prime_number(n):\n",
    "    \"\"\"\n",
    "    :param n: an integer need to check that is prime or not\n",
    "    :return: true if n is prime and false if the opposite\n",
    "    \"\"\"\n",
    "    if n<2: return False\n",
    "    for i in range(2, n//2):\n",
    "        if n%i==0:\n",
    "            return False\n",
    "\n",
    "    return True\n",
    "\n",
    "print(is_prime_number(3))\n",
    "print(is_prime_number(1))\n",
    "print(is_prime_number(7))"
   ],
   "metadata": {
    "collapsed": false
   }
  },
  {
   "cell_type": "markdown",
   "source": [
    "Hàm kiểm tra số chính phương"
   ],
   "metadata": {
    "collapsed": false
   }
  },
  {
   "cell_type": "code",
   "execution_count": 11,
   "outputs": [
    {
     "name": "stdout",
     "output_type": "stream",
     "text": [
      "True\n",
      "False\n"
     ]
    }
   ],
   "source": [
    "import math\n",
    "def is_perfect_square(n):\n",
    "    \"\"\"\n",
    "    :param n: an integer need to check that is perfect square or not\n",
    "    :return: true if n is perfect square and false if opposite\n",
    "    \"\"\"\n",
    "    round_square_root_n = math.trunc(math.sqrt(n))\n",
    "    if round_square_root_n**2==n:\n",
    "        return True\n",
    "    else:\n",
    "        return  False\n",
    "\n",
    "print(is_perfect_square(9))\n",
    "print(is_perfect_square(7))\n"
   ],
   "metadata": {
    "collapsed": false
   }
  },
  {
   "cell_type": "markdown",
   "source": [
    "Hàm kiểm tra năm nhuận"
   ],
   "metadata": {
    "collapsed": false
   }
  },
  {
   "cell_type": "code",
   "execution_count": null,
   "outputs": [],
   "source": [
    "def is_leap_year(n):\n",
    "    \"\"\"\n",
    "    :param n: a year need to check that is leap year or not\n",
    "    :return: true if n is leap year and false if opposite\n",
    "    \"\"\"\n",
    "    if n%4!=0: return False\n",
    "\n"
   ],
   "metadata": {
    "collapsed": false
   }
  }
 ],
 "metadata": {
  "kernelspec": {
   "display_name": "Python 3",
   "language": "python",
   "name": "python3"
  },
  "language_info": {
   "codemirror_mode": {
    "name": "ipython",
    "version": 2
   },
   "file_extension": ".py",
   "mimetype": "text/x-python",
   "name": "python",
   "nbconvert_exporter": "python",
   "pygments_lexer": "ipython2",
   "version": "2.7.6"
  }
 },
 "nbformat": 4,
 "nbformat_minor": 0
}
