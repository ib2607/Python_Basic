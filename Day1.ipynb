{
 "cells": [
  {
   "cell_type": "markdown",
   "source": [
    "Check is n a odd number"
   ],
   "metadata": {
    "collapsed": false
   }
  },
  {
   "cell_type": "code",
   "execution_count": 2,
   "outputs": [
    {
     "data": {
      "text/plain": "False"
     },
     "execution_count": 1,
     "metadata": {},
     "output_type": "execute_result"
    },
    {
     "data": {
      "text/plain": "True"
     },
     "execution_count": 2,
     "metadata": {},
     "output_type": "execute_result"
    }
   ],
   "source": [
    "def is_odd_number(n):\n",
    "    \"\"\"\n",
    "    :param n: an integer n need to check that is odd number or even number\n",
    "    :return: true if n is odd number and false if the opposite\n",
    "    \"\"\"\n",
    "    return (n % 2 == 1)\n",
    "\n",
    "is_odd_number(6)\n",
    "is_odd_number(7)\n"
   ],
   "metadata": {
    "collapsed": false
   }
  },
  {
   "cell_type": "markdown",
   "source": [
    "Check is n is prime number"
   ],
   "metadata": {
    "collapsed": false
   }
  },
  {
   "cell_type": "code",
   "execution_count": 10,
   "outputs": [
    {
     "name": "stdout",
     "output_type": "stream",
     "text": [
      "True\n",
      "False\n",
      "True\n"
     ]
    }
   ],
   "source": [
    "def is_prime_number(n):\n",
    "    \"\"\"\n",
    "    :param n: an integer need to check that is prime or not\n",
    "    :return: true if n is prime and false if the opposite\n",
    "    \"\"\"\n",
    "    if n<2: return False\n",
    "    for i in range(2, n//2):\n",
    "        if n%i==0:\n",
    "            return False\n",
    "\n",
    "    return True\n",
    "\n",
    "print(is_prime_number(3))\n",
    "print(is_prime_number(1))\n",
    "print(is_prime_number(7))"
   ],
   "metadata": {
    "collapsed": false
   }
  },
  {
   "cell_type": "markdown",
   "source": [
    "Check n is perfect square"
   ],
   "metadata": {
    "collapsed": false
   }
  },
  {
   "cell_type": "code",
   "execution_count": 11,
   "outputs": [
    {
     "name": "stdout",
     "output_type": "stream",
     "text": [
      "True\n",
      "False\n"
     ]
    }
   ],
   "source": [
    "import math\n",
    "def is_perfect_square(n):\n",
    "    \"\"\"\n",
    "    :param n: an integer need to check that is perfect square or not\n",
    "    :return: true if n is perfect square and false if opposite\n",
    "    \"\"\"\n",
    "    round_square_root_n = math.trunc(math.sqrt(n))\n",
    "    if round_square_root_n**2==n:\n",
    "        return True\n",
    "    else:\n",
    "        return  False\n",
    "\n",
    "print(is_perfect_square(9))\n",
    "print(is_perfect_square(7))\n"
   ],
   "metadata": {
    "collapsed": false
   }
  },
  {
   "cell_type": "markdown",
   "source": [
    "Check n is leap year"
   ],
   "metadata": {
    "collapsed": false
   }
  },
  {
   "cell_type": "code",
   "execution_count": 5,
   "outputs": [
    {
     "name": "stdout",
     "output_type": "stream",
     "text": [
      "False True False True\n"
     ]
    }
   ],
   "source": [
    "def is_leap_year(n):\n",
    "    \"\"\"\n",
    "    :param n: a year need to check that is leap year or not\n",
    "    :return: true if n is leap year and false if opposite\n",
    "    \"\"\"\n",
    "    if n%400 == 0:\n",
    "        return True\n",
    "\n",
    "    if n%4!=0 or n%100==0: return False\n",
    "    else:\n",
    "        return True\n",
    "\n",
    "print(is_leap_year(100), is_leap_year(400), is_leap_year(2023), is_leap_year(2024))\n"
   ],
   "metadata": {
    "collapsed": false
   }
  },
  {
   "cell_type": "markdown",
   "source": [
    "Calculate sum of n integer from 1"
   ],
   "metadata": {
    "collapsed": false
   }
  },
  {
   "cell_type": "code",
   "execution_count": 36,
   "outputs": [
    {
     "name": "stdout",
     "output_type": "stream",
     "text": [
      "55\n",
      "None\n"
     ]
    }
   ],
   "source": [
    "def sum_n(n):\n",
    "    if n<0: return \"None\"\n",
    "    s = 0\n",
    "    for i in range(n+1):\n",
    "        s+=i\n",
    "\n",
    "    return s\n",
    "\n",
    "print(sum_n(10))\n",
    "print(sum_n(-2))\n"
   ],
   "metadata": {
    "collapsed": false
   }
  },
  {
   "cell_type": "markdown",
   "source": [
    "Calculate sum of odd integers from 1 to n"
   ],
   "metadata": {
    "collapsed": false
   }
  },
  {
   "cell_type": "code",
   "execution_count": 40,
   "outputs": [
    {
     "name": "stdout",
     "output_type": "stream",
     "text": [
      "4\n",
      "False\n"
     ]
    }
   ],
   "source": [
    "def sum_odd(n):\n",
    "    if n<0: return \"False\"\n",
    "    s = 0\n",
    "    for i in range(n+1):\n",
    "        if i%2!=0:\n",
    "            s+=i\n",
    "\n",
    "    return s\n",
    "\n",
    "print(sum_odd(3))\n",
    "print(sum_odd(-3))"
   ],
   "metadata": {
    "collapsed": false
   }
  },
  {
   "cell_type": "markdown",
   "source": [
    "Calculate sum of number that can divisible by 5 from 1 to n"
   ],
   "metadata": {
    "collapsed": false
   }
  },
  {
   "cell_type": "code",
   "execution_count": 39,
   "outputs": [
    {
     "name": "stdout",
     "output_type": "stream",
     "text": [
      "30\n",
      "False\n"
     ]
    }
   ],
   "source": [
    "def sum_five(n):\n",
    "    if n<0: return \"False\"\n",
    "    s = 0\n",
    "    for i in range (n+1):\n",
    "        if i%5==0:\n",
    "            s+=i\n",
    "    return s\n",
    "\n",
    "print(sum_five(16))\n",
    "print(sum_five(-16))"
   ],
   "metadata": {
    "collapsed": false
   }
  },
  {
   "cell_type": "markdown",
   "source": [
    "Return n first number can divisible by 3"
   ],
   "metadata": {
    "collapsed": false
   }
  },
  {
   "cell_type": "code",
   "execution_count": 42,
   "outputs": [
    {
     "name": "stdout",
     "output_type": "stream",
     "text": [
      "[0, 3, 6, 9]\n",
      "False\n"
     ]
    }
   ],
   "source": [
    "def n_first_3_mul(n):\n",
    "    if n<0: return \"False\"\n",
    "    nums=[]\n",
    "    for i in range (n):\n",
    "        nums.append(i*3)\n",
    "\n",
    "    return nums\n",
    "\n",
    "print(n_first_3_mul(4))\n",
    "print(n_first_3_mul(-4))"
   ],
   "metadata": {
    "collapsed": false
   }
  },
  {
   "cell_type": "markdown",
   "source": [
    "return n!"
   ],
   "metadata": {
    "collapsed": false
   }
  },
  {
   "cell_type": "code",
   "execution_count": 35,
   "outputs": [
    {
     "name": "stdout",
     "output_type": "stream",
     "text": [
      "24\n",
      "False\n"
     ]
    }
   ],
   "source": [
    "def factorial(n):\n",
    "    if n<0: return \"False\"\n",
    "    fac = 1\n",
    "    for i in range(1,n+1):\n",
    "        fac*=i\n",
    "    return fac\n",
    "\n",
    "print(factorial(4))\n",
    "print(factorial(-2))"
   ],
   "metadata": {
    "collapsed": false
   }
  },
  {
   "cell_type": "markdown",
   "source": [
    "Count number of digits of n"
   ],
   "metadata": {
    "collapsed": false
   }
  },
  {
   "cell_type": "code",
   "execution_count": 43,
   "outputs": [
    {
     "name": "stdout",
     "output_type": "stream",
     "text": [
      "5\n",
      "5\n"
     ]
    }
   ],
   "source": [
    "def digits_count(n):\n",
    "    if n<0: n=-n\n",
    "    digit = 0\n",
    "    while n>0:\n",
    "        digit += 1\n",
    "        n//=10\n",
    "\n",
    "    return digit\n",
    "\n",
    "print(digits_count(12345))\n",
    "print(digits_count(-12345))"
   ],
   "metadata": {
    "collapsed": false
   }
  },
  {
   "cell_type": "markdown",
   "source": [
    "Calculate sum of digits of n"
   ],
   "metadata": {
    "collapsed": false
   }
  },
  {
   "cell_type": "code",
   "execution_count": 45,
   "outputs": [
    {
     "name": "stdout",
     "output_type": "stream",
     "text": [
      "10\n",
      "10\n"
     ]
    }
   ],
   "source": [
    "def digits_sum(n):\n",
    "    if n<0: n=-n\n",
    "    s = 0\n",
    "    while n>0:\n",
    "        last_digit = n%10\n",
    "        s+=last_digit\n",
    "        n//=10\n",
    "\n",
    "    return s\n",
    "\n",
    "print(digits_sum(1234))\n",
    "print(digits_sum(-1234))"
   ],
   "metadata": {
    "collapsed": false
   }
  },
  {
   "cell_type": "markdown",
   "source": [
    "Calculate sum of even digits of n"
   ],
   "metadata": {
    "collapsed": false
   }
  },
  {
   "cell_type": "code",
   "execution_count": 46,
   "outputs": [
    {
     "name": "stdout",
     "output_type": "stream",
     "text": [
      "6\n",
      "6\n"
     ]
    }
   ],
   "source": [
    "def digits_even_sum(n):\n",
    "    if n<0: n=-n\n",
    "    s = 0\n",
    "    while n>0:\n",
    "        last_digit = n%10\n",
    "        if last_digit %2 == 0:\n",
    "            s+=last_digit\n",
    "        n//=10\n",
    "\n",
    "    return s\n",
    "\n",
    "print(digits_even_sum(1234))\n",
    "print(digits_even_sum(-1234))\n"
   ],
   "metadata": {
    "collapsed": false
   }
  },
  {
   "cell_type": "markdown",
   "source": [
    "Calculate x^n"
   ],
   "metadata": {
    "collapsed": false
   }
  },
  {
   "cell_type": "code",
   "execution_count": 30,
   "outputs": [
    {
     "name": "stdout",
     "output_type": "stream",
     "text": [
      "8\n",
      "0.125\n",
      "-0.125\n",
      "0.25\n"
     ]
    }
   ],
   "source": [
    "def cal_pow(x,n):\n",
    "    negative = False\n",
    "    if n<0:\n",
    "        n=-n\n",
    "        negative = True\n",
    "\n",
    "    s=1\n",
    "    for i in range(1,n+1):\n",
    "        s*=x\n",
    "\n",
    "    if negative: return 1/s\n",
    "    else: return s\n",
    "\n",
    "print(cal_pow(2,3))\n",
    "print(cal_pow(2,-3))\n",
    "print(cal_pow(-2,-3))\n",
    "print(cal_pow(-2,-2))"
   ],
   "metadata": {
    "collapsed": false
   }
  },
  {
   "cell_type": "markdown",
   "source": [
    "Return reverse number"
   ],
   "metadata": {
    "collapsed": false
   }
  },
  {
   "cell_type": "code",
   "execution_count": 48,
   "outputs": [
    {
     "name": "stdout",
     "output_type": "stream",
     "text": [
      "4321\n",
      "-4321\n"
     ]
    }
   ],
   "source": [
    "def number_reverse(n):\n",
    "    negative = False\n",
    "    if n<0:\n",
    "        negative = True\n",
    "        n = -n\n",
    "\n",
    "    s=\"\"\n",
    "    while n>0:\n",
    "        last_digit = n%10\n",
    "        n=n//10\n",
    "        s+=str(last_digit)\n",
    "\n",
    "    if negative: s = \"-\" + s\n",
    "    return  int(s)\n",
    "\n",
    "print(number_reverse(1234))\n",
    "print(number_reverse(-1234))\n"
   ],
   "metadata": {
    "collapsed": false
   }
  }
 ],
 "metadata": {
  "kernelspec": {
   "display_name": "Python 3",
   "language": "python",
   "name": "python3"
  },
  "language_info": {
   "codemirror_mode": {
    "name": "ipython",
    "version": 2
   },
   "file_extension": ".py",
   "mimetype": "text/x-python",
   "name": "python",
   "nbconvert_exporter": "python",
   "pygments_lexer": "ipython2",
   "version": "2.7.6"
  }
 },
 "nbformat": 4,
 "nbformat_minor": 0
}
